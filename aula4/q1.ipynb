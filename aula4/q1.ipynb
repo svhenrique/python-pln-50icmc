{
  "nbformat": 4,
  "nbformat_minor": 0,
  "metadata": {
    "colab": {
      "name": "q1.ipynb",
      "provenance": [],
      "collapsed_sections": [
        "a3uWd0BIEm5s",
        "y8CHoHEfFHJ5",
        "_EBtTMeTFVyy",
        "Wqt-qbR1FqCA",
        "bGnyUpo5F3GB",
        "j-bJ8VqpGMAg",
        "nrC6V3wsGfnx",
        "Jhnd3jcuGt0h",
        "B2vZUFFxHGZI",
        "W7mn3vvVHRPs",
        "LnSMBjqEH-0E"
      ],
      "authorship_tag": "ABX9TyM9RILTP+L8oaGwv0yR7E13",
      "include_colab_link": true
    },
    "kernelspec": {
      "name": "python3",
      "display_name": "Python 3"
    },
    "language_info": {
      "name": "python"
    }
  },
  "cells": [
    {
      "cell_type": "markdown",
      "metadata": {
        "id": "view-in-github",
        "colab_type": "text"
      },
      "source": [
        "<a href=\"https://colab.research.google.com/github/svhenrique/python-pln-50icmc/blob/main/aula4/q1.ipynb\" target=\"_parent\"><img src=\"https://colab.research.google.com/assets/colab-badge.svg\" alt=\"Open In Colab\"/></a>"
      ]
    },
    {
      "cell_type": "markdown",
      "metadata": {
        "id": "-0ek72oRECW1"
      },
      "source": [
        "Questão 1: Crie uma variável com a string “ instituto de ciências matemáticas e de \n",
        "computação” e faça: \n",
        "\n",
        "a.  Concatene (adicione) uma outra string chamada “usp” \n",
        "\n",
        "b.  Concatene (adicione) uma outra informação: 2021 \n",
        "\n",
        "c.  Verifique o tamanho da nova string (com as informações adicionadas \n",
        "das questões a e b), com referência a caracteres e espaços \n",
        "\n",
        "d.  Transforme a string inteiramente em maiúsculo \n",
        "\n",
        "e.  Transforme a string inteiramente em minúsculo \n",
        "\n",
        "f. Retire o espaço que está no início da string e imprima a string \n",
        "\n",
        "g.  Substitua todas as letras ‘a’ por ‘x’ \n",
        "\n",
        "h.  Separe a string em palavras únicas \n",
        "\n",
        "i. Verifique quantas palavras existem na string \n",
        "\n",
        "j. Separe a string por meio da palavra “de” \n",
        "\n",
        "k.  Verifique agora quantas palavras/frases foram formadas quando houve a separação pela palavra “de”  \n",
        "\n",
        "l. Junte as palavras que foram separadas (pode usar a separação resultante da questão h ou j) \n",
        "\n",
        "\n",
        "m. Junte as palavras que foram separadas, mas agora separadas por uma \n",
        "barra invertida,  não por  espaços  (pode  usar  a  separação  resultante  da \n",
        "questão h ou j)"
      ]
    },
    {
      "cell_type": "code",
      "metadata": {
        "id": "j7CzrCvHEq8H"
      },
      "source": [
        "string = ' instituto de ciências matemáticas e de computação'"
      ],
      "execution_count": 55,
      "outputs": []
    },
    {
      "cell_type": "markdown",
      "metadata": {
        "id": "a3uWd0BIEm5s"
      },
      "source": [
        "## a"
      ]
    },
    {
      "cell_type": "code",
      "metadata": {
        "colab": {
          "base_uri": "https://localhost:8080/",
          "height": 0
        },
        "id": "aYvVNIlED0k8",
        "outputId": "0d553077-24c0-48ff-ca2a-92846ea5f846"
      },
      "source": [
        "string += ' usp'\n",
        "string"
      ],
      "execution_count": 56,
      "outputs": [
        {
          "output_type": "execute_result",
          "data": {
            "application/vnd.google.colaboratory.intrinsic+json": {
              "type": "string"
            },
            "text/plain": [
              "' instituto de ciências matemáticas e de computação usp'"
            ]
          },
          "metadata": {},
          "execution_count": 56
        }
      ]
    },
    {
      "cell_type": "markdown",
      "metadata": {
        "id": "y8CHoHEfFHJ5"
      },
      "source": [
        "## b"
      ]
    },
    {
      "cell_type": "code",
      "metadata": {
        "colab": {
          "base_uri": "https://localhost:8080/",
          "height": 0
        },
        "id": "JM_FAIdCFIzM",
        "outputId": "675d1ce9-3caa-4caa-f2e8-d795df4b9486"
      },
      "source": [
        "string += ' 2021'\n",
        "string"
      ],
      "execution_count": 57,
      "outputs": [
        {
          "output_type": "execute_result",
          "data": {
            "application/vnd.google.colaboratory.intrinsic+json": {
              "type": "string"
            },
            "text/plain": [
              "' instituto de ciências matemáticas e de computação usp 2021'"
            ]
          },
          "metadata": {},
          "execution_count": 57
        }
      ]
    },
    {
      "cell_type": "markdown",
      "metadata": {
        "id": "_EBtTMeTFVyy"
      },
      "source": [
        "## c"
      ]
    },
    {
      "cell_type": "code",
      "metadata": {
        "colab": {
          "base_uri": "https://localhost:8080/"
        },
        "id": "QWJMXQLEFc4s",
        "outputId": "16045e6f-33ee-43c5-8493-19717ebd9343"
      },
      "source": [
        "len(string)"
      ],
      "execution_count": 58,
      "outputs": [
        {
          "output_type": "execute_result",
          "data": {
            "text/plain": [
              "59"
            ]
          },
          "metadata": {},
          "execution_count": 58
        }
      ]
    },
    {
      "cell_type": "markdown",
      "metadata": {
        "id": "Wqt-qbR1FqCA"
      },
      "source": [
        "## d"
      ]
    },
    {
      "cell_type": "code",
      "metadata": {
        "colab": {
          "base_uri": "https://localhost:8080/",
          "height": 0
        },
        "id": "jTFsELccFsWj",
        "outputId": "ef371f48-36cc-4f44-ad4d-b646c05c6415"
      },
      "source": [
        "string = string.upper()\n",
        "string"
      ],
      "execution_count": 59,
      "outputs": [
        {
          "output_type": "execute_result",
          "data": {
            "application/vnd.google.colaboratory.intrinsic+json": {
              "type": "string"
            },
            "text/plain": [
              "' INSTITUTO DE CIÊNCIAS MATEMÁTICAS E DE COMPUTAÇÃO USP 2021'"
            ]
          },
          "metadata": {},
          "execution_count": 59
        }
      ]
    },
    {
      "cell_type": "markdown",
      "metadata": {
        "id": "bGnyUpo5F3GB"
      },
      "source": [
        "## e"
      ]
    },
    {
      "cell_type": "code",
      "metadata": {
        "colab": {
          "base_uri": "https://localhost:8080/",
          "height": 0
        },
        "id": "EWOvuEntF5ea",
        "outputId": "f6a44314-96b7-4619-e4c5-254c1d5ae8a1"
      },
      "source": [
        "string = string.lower()\n",
        "string"
      ],
      "execution_count": 60,
      "outputs": [
        {
          "output_type": "execute_result",
          "data": {
            "application/vnd.google.colaboratory.intrinsic+json": {
              "type": "string"
            },
            "text/plain": [
              "' instituto de ciências matemáticas e de computação usp 2021'"
            ]
          },
          "metadata": {},
          "execution_count": 60
        }
      ]
    },
    {
      "cell_type": "markdown",
      "metadata": {
        "id": "j-bJ8VqpGMAg"
      },
      "source": [
        "## f"
      ]
    },
    {
      "cell_type": "code",
      "metadata": {
        "colab": {
          "base_uri": "https://localhost:8080/",
          "height": 0
        },
        "id": "R_Jq4DGpGY9k",
        "outputId": "0bc0d49b-5851-40d6-b85f-3da5c7648848"
      },
      "source": [
        "string = string[1:]\n",
        "string"
      ],
      "execution_count": 61,
      "outputs": [
        {
          "output_type": "execute_result",
          "data": {
            "application/vnd.google.colaboratory.intrinsic+json": {
              "type": "string"
            },
            "text/plain": [
              "'instituto de ciências matemáticas e de computação usp 2021'"
            ]
          },
          "metadata": {},
          "execution_count": 61
        }
      ]
    },
    {
      "cell_type": "markdown",
      "metadata": {
        "id": "nrC6V3wsGfnx"
      },
      "source": [
        "## g"
      ]
    },
    {
      "cell_type": "code",
      "metadata": {
        "colab": {
          "base_uri": "https://localhost:8080/",
          "height": 0
        },
        "id": "0NgZnsFxGiKq",
        "outputId": "16bfa2b7-e018-4e5e-80d3-03884cc4727d"
      },
      "source": [
        "string = string.replace('a', 'x')\n",
        "string"
      ],
      "execution_count": 62,
      "outputs": [
        {
          "output_type": "execute_result",
          "data": {
            "application/vnd.google.colaboratory.intrinsic+json": {
              "type": "string"
            },
            "text/plain": [
              "'instituto de ciêncixs mxtemáticxs e de computxção usp 2021'"
            ]
          },
          "metadata": {},
          "execution_count": 62
        }
      ]
    },
    {
      "cell_type": "markdown",
      "metadata": {
        "id": "Jhnd3jcuGt0h"
      },
      "source": [
        "## h"
      ]
    },
    {
      "cell_type": "code",
      "metadata": {
        "colab": {
          "base_uri": "https://localhost:8080/"
        },
        "id": "e3m9BO5GGy8Q",
        "outputId": "ef3a9d8a-006d-4449-f1a8-e86fe18578a7"
      },
      "source": [
        "string = string.split(' ')\n",
        "string"
      ],
      "execution_count": 63,
      "outputs": [
        {
          "output_type": "execute_result",
          "data": {
            "text/plain": [
              "['instituto',\n",
              " 'de',\n",
              " 'ciêncixs',\n",
              " 'mxtemáticxs',\n",
              " 'e',\n",
              " 'de',\n",
              " 'computxção',\n",
              " 'usp',\n",
              " '2021']"
            ]
          },
          "metadata": {},
          "execution_count": 63
        }
      ]
    },
    {
      "cell_type": "markdown",
      "metadata": {
        "id": "B2vZUFFxHGZI"
      },
      "source": [
        "## i"
      ]
    },
    {
      "cell_type": "code",
      "metadata": {
        "colab": {
          "base_uri": "https://localhost:8080/"
        },
        "id": "L21ISJgyHIjX",
        "outputId": "62ce6cce-fe30-4976-adbd-08b3a5d5cdd6"
      },
      "source": [
        "len(string)"
      ],
      "execution_count": 64,
      "outputs": [
        {
          "output_type": "execute_result",
          "data": {
            "text/plain": [
              "9"
            ]
          },
          "metadata": {},
          "execution_count": 64
        }
      ]
    },
    {
      "cell_type": "markdown",
      "metadata": {
        "id": "W7mn3vvVHRPs"
      },
      "source": [
        "## j"
      ]
    },
    {
      "cell_type": "code",
      "metadata": {
        "colab": {
          "base_uri": "https://localhost:8080/"
        },
        "id": "oo2b5pCWHVSb",
        "outputId": "3978120b-941b-49a0-c8dc-8dbd33786807"
      },
      "source": [
        "result = ''\n",
        "for word in string:\n",
        "  if word == string[-1]:\n",
        "    result += word\n",
        "  else:\n",
        "    result += word + ' '\n",
        "\n",
        "string = result.split('de')\n",
        "string"
      ],
      "execution_count": 65,
      "outputs": [
        {
          "output_type": "execute_result",
          "data": {
            "text/plain": [
              "['instituto ', ' ciêncixs mxtemáticxs e ', ' computxção usp 2021']"
            ]
          },
          "metadata": {},
          "execution_count": 65
        }
      ]
    },
    {
      "cell_type": "markdown",
      "metadata": {
        "id": "LnSMBjqEH-0E"
      },
      "source": [
        "## k"
      ]
    },
    {
      "cell_type": "code",
      "metadata": {
        "colab": {
          "base_uri": "https://localhost:8080/"
        },
        "id": "AjWnlB3rH-MC",
        "outputId": "97e804f8-a3b2-4957-90c3-79b075679351"
      },
      "source": [
        "len(string)"
      ],
      "execution_count": 66,
      "outputs": [
        {
          "output_type": "execute_result",
          "data": {
            "text/plain": [
              "3"
            ]
          },
          "metadata": {},
          "execution_count": 66
        }
      ]
    },
    {
      "cell_type": "markdown",
      "metadata": {
        "id": "vxg5ophDIIip"
      },
      "source": [
        "## l"
      ]
    },
    {
      "cell_type": "code",
      "metadata": {
        "colab": {
          "base_uri": "https://localhost:8080/",
          "height": 35
        },
        "id": "ynrO1SDkIPhP",
        "outputId": "78d3f10f-62d6-45a1-808e-07bf06128a20"
      },
      "source": [
        "result = ''\n",
        "for word in string:\n",
        "  result += word\n",
        "\n",
        "string = result\n",
        "string"
      ],
      "execution_count": 67,
      "outputs": [
        {
          "output_type": "execute_result",
          "data": {
            "application/vnd.google.colaboratory.intrinsic+json": {
              "type": "string"
            },
            "text/plain": [
              "'instituto  ciêncixs mxtemáticxs e  computxção usp 2021'"
            ]
          },
          "metadata": {},
          "execution_count": 67
        }
      ]
    }
  ]
}