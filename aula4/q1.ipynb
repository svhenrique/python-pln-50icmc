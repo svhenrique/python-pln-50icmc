{
  "nbformat": 4,
  "nbformat_minor": 0,
  "metadata": {
    "colab": {
      "name": "q1.ipynb",
      "provenance": [],
      "collapsed_sections": [
        "a3uWd0BIEm5s",
        "y8CHoHEfFHJ5",
        "_EBtTMeTFVyy",
        "Wqt-qbR1FqCA",
        "bGnyUpo5F3GB",
        "j-bJ8VqpGMAg",
        "nrC6V3wsGfnx"
      ],
      "authorship_tag": "ABX9TyMeNe6UP/YIsL90bLtMRzoA",
      "include_colab_link": true
    },
    "kernelspec": {
      "name": "python3",
      "display_name": "Python 3"
    },
    "language_info": {
      "name": "python"
    }
  },
  "cells": [
    {
      "cell_type": "markdown",
      "metadata": {
        "id": "view-in-github",
        "colab_type": "text"
      },
      "source": [
        "<a href=\"https://colab.research.google.com/github/svhenrique/python-pln-50icmc/blob/main/aula4/q1.ipynb\" target=\"_parent\"><img src=\"https://colab.research.google.com/assets/colab-badge.svg\" alt=\"Open In Colab\"/></a>"
      ]
    },
    {
      "cell_type": "markdown",
      "metadata": {
        "id": "-0ek72oRECW1"
      },
      "source": [
        "Questão 1: Crie uma variável com a string “ instituto de ciências matemáticas e de \n",
        "computação” e faça: \n",
        "\n",
        "a.  Concatene (adicione) uma outra string chamada “usp” \n",
        "\n",
        "b.  Concatene (adicione) uma outra informação: 2021 \n",
        "\n",
        "c.  Verifique o tamanho da nova string (com as informações adicionadas \n",
        "das questões a e b), com referência a caracteres e espaços \n",
        "\n",
        "d.  Transforme a string inteiramente em maiúsculo \n",
        "\n",
        "e.  Transforme a string inteiramente em minúsculo \n",
        "\n",
        "f. Retire o espaço que está no início da string e imprima a string \n",
        "\n",
        "g.  Substitua todas as letras ‘a’ por ‘x’ \n",
        "\n",
        "h.  Separe a string em palavras únicas \n",
        "\n",
        "i. Verifique quantas palavras existem na string \n",
        "\n",
        "j. Separe a string por meio da palavra “de” \n",
        "\n",
        "k.  Verifique agora quantas palavras/frases foram formadas quando houve a separação pela palavra “de”  \n",
        "\n",
        "l. Junte as palavras que foram separadas (pode usar a separação resultante da questão h ou j) \n",
        "\n",
        "\n",
        "m. Junte as palavras que foram separadas, mas agora separadas por uma \n",
        "barra invertida,  não por  espaços  (pode  usar  a  separação  resultante  da \n",
        "questão h ou j)"
      ]
    },
    {
      "cell_type": "code",
      "metadata": {
        "id": "j7CzrCvHEq8H"
      },
      "source": [
        "string = ' instituto de ciências matemáticas e de computação'"
      ],
      "execution_count": 19,
      "outputs": []
    },
    {
      "cell_type": "markdown",
      "metadata": {
        "id": "a3uWd0BIEm5s"
      },
      "source": [
        "## a"
      ]
    },
    {
      "cell_type": "code",
      "metadata": {
        "colab": {
          "base_uri": "https://localhost:8080/",
          "height": 0
        },
        "id": "aYvVNIlED0k8",
        "outputId": "8894442b-c50f-4e01-a909-44a4dff004cf"
      },
      "source": [
        "string += ' usp'\n",
        "string"
      ],
      "execution_count": 20,
      "outputs": [
        {
          "output_type": "execute_result",
          "data": {
            "application/vnd.google.colaboratory.intrinsic+json": {
              "type": "string"
            },
            "text/plain": [
              "' instituto de ciências matemáticas e de computação usp'"
            ]
          },
          "metadata": {},
          "execution_count": 20
        }
      ]
    },
    {
      "cell_type": "markdown",
      "metadata": {
        "id": "y8CHoHEfFHJ5"
      },
      "source": [
        "## b"
      ]
    },
    {
      "cell_type": "code",
      "metadata": {
        "colab": {
          "base_uri": "https://localhost:8080/",
          "height": 0
        },
        "id": "JM_FAIdCFIzM",
        "outputId": "53b6afdc-09c7-4fc7-b306-ae7ed80b8d5f"
      },
      "source": [
        "string += ' 2021'\n",
        "string"
      ],
      "execution_count": 21,
      "outputs": [
        {
          "output_type": "execute_result",
          "data": {
            "application/vnd.google.colaboratory.intrinsic+json": {
              "type": "string"
            },
            "text/plain": [
              "' instituto de ciências matemáticas e de computação usp 2021'"
            ]
          },
          "metadata": {},
          "execution_count": 21
        }
      ]
    },
    {
      "cell_type": "markdown",
      "metadata": {
        "id": "_EBtTMeTFVyy"
      },
      "source": [
        "## c"
      ]
    },
    {
      "cell_type": "code",
      "metadata": {
        "colab": {
          "base_uri": "https://localhost:8080/"
        },
        "id": "QWJMXQLEFc4s",
        "outputId": "639699a0-4a60-4c2a-e287-0972adac0a99"
      },
      "source": [
        "len(string)"
      ],
      "execution_count": 22,
      "outputs": [
        {
          "output_type": "execute_result",
          "data": {
            "text/plain": [
              "59"
            ]
          },
          "metadata": {},
          "execution_count": 22
        }
      ]
    },
    {
      "cell_type": "markdown",
      "metadata": {
        "id": "Wqt-qbR1FqCA"
      },
      "source": [
        "## d"
      ]
    },
    {
      "cell_type": "code",
      "metadata": {
        "colab": {
          "base_uri": "https://localhost:8080/",
          "height": 0
        },
        "id": "jTFsELccFsWj",
        "outputId": "b75493f9-c1fc-4bf7-d70a-39c79789243e"
      },
      "source": [
        "string = string.upper()\n",
        "string"
      ],
      "execution_count": 23,
      "outputs": [
        {
          "output_type": "execute_result",
          "data": {
            "application/vnd.google.colaboratory.intrinsic+json": {
              "type": "string"
            },
            "text/plain": [
              "' INSTITUTO DE CIÊNCIAS MATEMÁTICAS E DE COMPUTAÇÃO USP 2021'"
            ]
          },
          "metadata": {},
          "execution_count": 23
        }
      ]
    },
    {
      "cell_type": "markdown",
      "metadata": {
        "id": "bGnyUpo5F3GB"
      },
      "source": [
        "## e"
      ]
    },
    {
      "cell_type": "code",
      "metadata": {
        "colab": {
          "base_uri": "https://localhost:8080/",
          "height": 0
        },
        "id": "EWOvuEntF5ea",
        "outputId": "7877e558-df31-4ed1-d8fb-2bf24ffff8d5"
      },
      "source": [
        "string = string.lower()\n",
        "string"
      ],
      "execution_count": 24,
      "outputs": [
        {
          "output_type": "execute_result",
          "data": {
            "application/vnd.google.colaboratory.intrinsic+json": {
              "type": "string"
            },
            "text/plain": [
              "' instituto de ciências matemáticas e de computação usp 2021'"
            ]
          },
          "metadata": {},
          "execution_count": 24
        }
      ]
    },
    {
      "cell_type": "markdown",
      "metadata": {
        "id": "j-bJ8VqpGMAg"
      },
      "source": [
        "## f"
      ]
    },
    {
      "cell_type": "code",
      "metadata": {
        "colab": {
          "base_uri": "https://localhost:8080/",
          "height": 0
        },
        "id": "R_Jq4DGpGY9k",
        "outputId": "6c6289fb-2bad-47e2-b32e-18a263f06623"
      },
      "source": [
        "string = string[1:]\n",
        "string"
      ],
      "execution_count": 25,
      "outputs": [
        {
          "output_type": "execute_result",
          "data": {
            "application/vnd.google.colaboratory.intrinsic+json": {
              "type": "string"
            },
            "text/plain": [
              "'instituto de ciências matemáticas e de computação usp 2021'"
            ]
          },
          "metadata": {},
          "execution_count": 25
        }
      ]
    },
    {
      "cell_type": "markdown",
      "metadata": {
        "id": "nrC6V3wsGfnx"
      },
      "source": [
        "## g"
      ]
    },
    {
      "cell_type": "code",
      "metadata": {
        "colab": {
          "base_uri": "https://localhost:8080/",
          "height": 0
        },
        "id": "0NgZnsFxGiKq",
        "outputId": "02cca891-0e6b-483f-8112-01714600b3be"
      },
      "source": [
        "string = string.replace('a', 'x')\n",
        "string"
      ],
      "execution_count": 26,
      "outputs": [
        {
          "output_type": "execute_result",
          "data": {
            "application/vnd.google.colaboratory.intrinsic+json": {
              "type": "string"
            },
            "text/plain": [
              "'instituto de ciêncixs mxtemáticxs e de computxção usp 2021'"
            ]
          },
          "metadata": {},
          "execution_count": 26
        }
      ]
    },
    {
      "cell_type": "markdown",
      "metadata": {
        "id": "Jhnd3jcuGt0h"
      },
      "source": [
        "## h"
      ]
    },
    {
      "cell_type": "code",
      "metadata": {
        "colab": {
          "base_uri": "https://localhost:8080/"
        },
        "id": "e3m9BO5GGy8Q",
        "outputId": "9a250594-4866-492a-a761-554ba663ea04"
      },
      "source": [
        "string = string.split(' ')\n",
        "string"
      ],
      "execution_count": 27,
      "outputs": [
        {
          "output_type": "execute_result",
          "data": {
            "text/plain": [
              "['instituto',\n",
              " 'de',\n",
              " 'ciêncixs',\n",
              " 'mxtemáticxs',\n",
              " 'e',\n",
              " 'de',\n",
              " 'computxção',\n",
              " 'usp',\n",
              " '2021']"
            ]
          },
          "metadata": {},
          "execution_count": 27
        }
      ]
    },
    {
      "cell_type": "markdown",
      "metadata": {
        "id": "B2vZUFFxHGZI"
      },
      "source": [
        "## i"
      ]
    },
    {
      "cell_type": "code",
      "metadata": {
        "colab": {
          "base_uri": "https://localhost:8080/"
        },
        "id": "L21ISJgyHIjX",
        "outputId": "69c0c665-2904-4efa-da60-d3692cd97ef8"
      },
      "source": [
        "len(string)"
      ],
      "execution_count": 28,
      "outputs": [
        {
          "output_type": "execute_result",
          "data": {
            "text/plain": [
              "9"
            ]
          },
          "metadata": {},
          "execution_count": 28
        }
      ]
    }
  ]
}