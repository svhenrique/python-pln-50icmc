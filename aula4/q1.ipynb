{
  "nbformat": 4,
  "nbformat_minor": 0,
  "metadata": {
    "colab": {
      "name": "q1.ipynb",
      "provenance": [],
      "collapsed_sections": [
        "a3uWd0BIEm5s",
        "y8CHoHEfFHJ5",
        "_EBtTMeTFVyy",
        "Wqt-qbR1FqCA",
        "bGnyUpo5F3GB",
        "j-bJ8VqpGMAg",
        "nrC6V3wsGfnx",
        "Jhnd3jcuGt0h",
        "B2vZUFFxHGZI",
        "W7mn3vvVHRPs",
        "LnSMBjqEH-0E"
      ],
      "authorship_tag": "ABX9TyMesgpwBkrf9QfkA+F23YeB",
      "include_colab_link": true
    },
    "kernelspec": {
      "name": "python3",
      "display_name": "Python 3"
    },
    "language_info": {
      "name": "python"
    }
  },
  "cells": [
    {
      "cell_type": "markdown",
      "metadata": {
        "id": "view-in-github",
        "colab_type": "text"
      },
      "source": [
        "<a href=\"https://colab.research.google.com/github/svhenrique/python-pln-50icmc/blob/main/aula4/q1.ipynb\" target=\"_parent\"><img src=\"https://colab.research.google.com/assets/colab-badge.svg\" alt=\"Open In Colab\"/></a>"
      ]
    },
    {
      "cell_type": "markdown",
      "metadata": {
        "id": "-0ek72oRECW1"
      },
      "source": [
        "Questão 1: Crie uma variável com a string “ instituto de ciências matemáticas e de \n",
        "computação” e faça: \n",
        "\n",
        "a.  Concatene (adicione) uma outra string chamada “usp” \n",
        "\n",
        "b.  Concatene (adicione) uma outra informação: 2021 \n",
        "\n",
        "c.  Verifique o tamanho da nova string (com as informações adicionadas \n",
        "das questões a e b), com referência a caracteres e espaços \n",
        "\n",
        "d.  Transforme a string inteiramente em maiúsculo \n",
        "\n",
        "e.  Transforme a string inteiramente em minúsculo \n",
        "\n",
        "f. Retire o espaço que está no início da string e imprima a string \n",
        "\n",
        "g.  Substitua todas as letras ‘a’ por ‘x’ \n",
        "\n",
        "h.  Separe a string em palavras únicas \n",
        "\n",
        "i. Verifique quantas palavras existem na string \n",
        "\n",
        "j. Separe a string por meio da palavra “de” \n",
        "\n",
        "k.  Verifique agora quantas palavras/frases foram formadas quando houve a separação pela palavra “de”  \n",
        "\n",
        "l. Junte as palavras que foram separadas (pode usar a separação resultante da questão h ou j) \n",
        "\n",
        "\n",
        "m. Junte as palavras que foram separadas, mas agora separadas por uma \n",
        "barra invertida,  não por  espaços  (pode  usar  a  separação  resultante  da \n",
        "questão h ou j)"
      ]
    },
    {
      "cell_type": "code",
      "metadata": {
        "id": "j7CzrCvHEq8H"
      },
      "source": [
        "string = ' instituto de ciências matemáticas e de computação'"
      ],
      "execution_count": 72,
      "outputs": []
    },
    {
      "cell_type": "markdown",
      "metadata": {
        "id": "a3uWd0BIEm5s"
      },
      "source": [
        "## a"
      ]
    },
    {
      "cell_type": "code",
      "metadata": {
        "colab": {
          "base_uri": "https://localhost:8080/",
          "height": 0
        },
        "id": "aYvVNIlED0k8",
        "outputId": "fc366ae7-8c18-49e4-8ceb-aa298658025a"
      },
      "source": [
        "string += ' usp'\n",
        "string"
      ],
      "execution_count": 73,
      "outputs": [
        {
          "output_type": "execute_result",
          "data": {
            "application/vnd.google.colaboratory.intrinsic+json": {
              "type": "string"
            },
            "text/plain": [
              "' instituto de ciências matemáticas e de computação usp'"
            ]
          },
          "metadata": {},
          "execution_count": 73
        }
      ]
    },
    {
      "cell_type": "markdown",
      "metadata": {
        "id": "y8CHoHEfFHJ5"
      },
      "source": [
        "## b"
      ]
    },
    {
      "cell_type": "code",
      "metadata": {
        "colab": {
          "base_uri": "https://localhost:8080/",
          "height": 0
        },
        "id": "JM_FAIdCFIzM",
        "outputId": "a1e75485-7bc7-4e66-8b0c-03a95be4efce"
      },
      "source": [
        "string += ' 2021'\n",
        "string"
      ],
      "execution_count": 74,
      "outputs": [
        {
          "output_type": "execute_result",
          "data": {
            "application/vnd.google.colaboratory.intrinsic+json": {
              "type": "string"
            },
            "text/plain": [
              "' instituto de ciências matemáticas e de computação usp 2021'"
            ]
          },
          "metadata": {},
          "execution_count": 74
        }
      ]
    },
    {
      "cell_type": "markdown",
      "metadata": {
        "id": "_EBtTMeTFVyy"
      },
      "source": [
        "## c"
      ]
    },
    {
      "cell_type": "code",
      "metadata": {
        "colab": {
          "base_uri": "https://localhost:8080/"
        },
        "id": "QWJMXQLEFc4s",
        "outputId": "749e8999-264f-491e-de44-8ffe1279193c"
      },
      "source": [
        "len(string)"
      ],
      "execution_count": 75,
      "outputs": [
        {
          "output_type": "execute_result",
          "data": {
            "text/plain": [
              "59"
            ]
          },
          "metadata": {},
          "execution_count": 75
        }
      ]
    },
    {
      "cell_type": "markdown",
      "metadata": {
        "id": "Wqt-qbR1FqCA"
      },
      "source": [
        "## d"
      ]
    },
    {
      "cell_type": "code",
      "metadata": {
        "colab": {
          "base_uri": "https://localhost:8080/",
          "height": 0
        },
        "id": "jTFsELccFsWj",
        "outputId": "f660c268-9819-43b2-ea2a-220409f270e9"
      },
      "source": [
        "string = string.upper()\n",
        "string"
      ],
      "execution_count": 76,
      "outputs": [
        {
          "output_type": "execute_result",
          "data": {
            "application/vnd.google.colaboratory.intrinsic+json": {
              "type": "string"
            },
            "text/plain": [
              "' INSTITUTO DE CIÊNCIAS MATEMÁTICAS E DE COMPUTAÇÃO USP 2021'"
            ]
          },
          "metadata": {},
          "execution_count": 76
        }
      ]
    },
    {
      "cell_type": "markdown",
      "metadata": {
        "id": "bGnyUpo5F3GB"
      },
      "source": [
        "## e"
      ]
    },
    {
      "cell_type": "code",
      "metadata": {
        "colab": {
          "base_uri": "https://localhost:8080/",
          "height": 0
        },
        "id": "EWOvuEntF5ea",
        "outputId": "874566e4-195f-4eb7-8492-f08a3a879d25"
      },
      "source": [
        "string = string.lower()\n",
        "string"
      ],
      "execution_count": 77,
      "outputs": [
        {
          "output_type": "execute_result",
          "data": {
            "application/vnd.google.colaboratory.intrinsic+json": {
              "type": "string"
            },
            "text/plain": [
              "' instituto de ciências matemáticas e de computação usp 2021'"
            ]
          },
          "metadata": {},
          "execution_count": 77
        }
      ]
    },
    {
      "cell_type": "markdown",
      "metadata": {
        "id": "j-bJ8VqpGMAg"
      },
      "source": [
        "## f"
      ]
    },
    {
      "cell_type": "code",
      "metadata": {
        "colab": {
          "base_uri": "https://localhost:8080/",
          "height": 0
        },
        "id": "R_Jq4DGpGY9k",
        "outputId": "9f6762c1-3a05-4a45-828f-da7de58feaed"
      },
      "source": [
        "string = string[1:]\n",
        "string"
      ],
      "execution_count": 78,
      "outputs": [
        {
          "output_type": "execute_result",
          "data": {
            "application/vnd.google.colaboratory.intrinsic+json": {
              "type": "string"
            },
            "text/plain": [
              "'instituto de ciências matemáticas e de computação usp 2021'"
            ]
          },
          "metadata": {},
          "execution_count": 78
        }
      ]
    },
    {
      "cell_type": "markdown",
      "metadata": {
        "id": "nrC6V3wsGfnx"
      },
      "source": [
        "## g"
      ]
    },
    {
      "cell_type": "code",
      "metadata": {
        "colab": {
          "base_uri": "https://localhost:8080/",
          "height": 0
        },
        "id": "0NgZnsFxGiKq",
        "outputId": "0eeca0cb-cae9-4614-a4fa-ad2a1d481f91"
      },
      "source": [
        "string = string.replace('a', 'x')\n",
        "string"
      ],
      "execution_count": 79,
      "outputs": [
        {
          "output_type": "execute_result",
          "data": {
            "application/vnd.google.colaboratory.intrinsic+json": {
              "type": "string"
            },
            "text/plain": [
              "'instituto de ciêncixs mxtemáticxs e de computxção usp 2021'"
            ]
          },
          "metadata": {},
          "execution_count": 79
        }
      ]
    },
    {
      "cell_type": "markdown",
      "metadata": {
        "id": "Jhnd3jcuGt0h"
      },
      "source": [
        "## h"
      ]
    },
    {
      "cell_type": "code",
      "metadata": {
        "colab": {
          "base_uri": "https://localhost:8080/"
        },
        "id": "e3m9BO5GGy8Q",
        "outputId": "5fc5781b-3bf0-460a-f0d5-b4b3a02511b9"
      },
      "source": [
        "string = string.split(' ')\n",
        "string_reserva = string\n",
        "string"
      ],
      "execution_count": 80,
      "outputs": [
        {
          "output_type": "execute_result",
          "data": {
            "text/plain": [
              "['instituto',\n",
              " 'de',\n",
              " 'ciêncixs',\n",
              " 'mxtemáticxs',\n",
              " 'e',\n",
              " 'de',\n",
              " 'computxção',\n",
              " 'usp',\n",
              " '2021']"
            ]
          },
          "metadata": {},
          "execution_count": 80
        }
      ]
    },
    {
      "cell_type": "markdown",
      "metadata": {
        "id": "B2vZUFFxHGZI"
      },
      "source": [
        "## i"
      ]
    },
    {
      "cell_type": "code",
      "metadata": {
        "colab": {
          "base_uri": "https://localhost:8080/"
        },
        "id": "L21ISJgyHIjX",
        "outputId": "408a16fa-8370-48e2-c0d3-de11593b300f"
      },
      "source": [
        "len(string)"
      ],
      "execution_count": 81,
      "outputs": [
        {
          "output_type": "execute_result",
          "data": {
            "text/plain": [
              "9"
            ]
          },
          "metadata": {},
          "execution_count": 81
        }
      ]
    },
    {
      "cell_type": "markdown",
      "metadata": {
        "id": "W7mn3vvVHRPs"
      },
      "source": [
        "## j"
      ]
    },
    {
      "cell_type": "code",
      "metadata": {
        "colab": {
          "base_uri": "https://localhost:8080/"
        },
        "id": "oo2b5pCWHVSb",
        "outputId": "448ff63a-50c1-4004-f0c0-aa82654771d5"
      },
      "source": [
        "result = ''\n",
        "for word in string:\n",
        "  if word == string[-1]:\n",
        "    result += word\n",
        "  else:\n",
        "    result += word + ' '\n",
        "\n",
        "string = result.split('de')\n",
        "string"
      ],
      "execution_count": 82,
      "outputs": [
        {
          "output_type": "execute_result",
          "data": {
            "text/plain": [
              "['instituto ', ' ciêncixs mxtemáticxs e ', ' computxção usp 2021']"
            ]
          },
          "metadata": {},
          "execution_count": 82
        }
      ]
    },
    {
      "cell_type": "markdown",
      "metadata": {
        "id": "LnSMBjqEH-0E"
      },
      "source": [
        "## k"
      ]
    },
    {
      "cell_type": "code",
      "metadata": {
        "colab": {
          "base_uri": "https://localhost:8080/"
        },
        "id": "AjWnlB3rH-MC",
        "outputId": "17d43bcf-fa3a-4289-d3e0-03cb20945dac"
      },
      "source": [
        "len(string)"
      ],
      "execution_count": 83,
      "outputs": [
        {
          "output_type": "execute_result",
          "data": {
            "text/plain": [
              "3"
            ]
          },
          "metadata": {},
          "execution_count": 83
        }
      ]
    },
    {
      "cell_type": "markdown",
      "metadata": {
        "id": "vxg5ophDIIip"
      },
      "source": [
        "## l"
      ]
    },
    {
      "cell_type": "code",
      "metadata": {
        "colab": {
          "base_uri": "https://localhost:8080/",
          "height": 35
        },
        "id": "ynrO1SDkIPhP",
        "outputId": "f98a3b52-e1d9-4aff-ce23-1ff54c0e57ae"
      },
      "source": [
        "result = ''\n",
        "for word in string:\n",
        "  result += word\n",
        "\n",
        "string = result\n",
        "string"
      ],
      "execution_count": 84,
      "outputs": [
        {
          "output_type": "execute_result",
          "data": {
            "application/vnd.google.colaboratory.intrinsic+json": {
              "type": "string"
            },
            "text/plain": [
              "'instituto  ciêncixs mxtemáticxs e  computxção usp 2021'"
            ]
          },
          "metadata": {},
          "execution_count": 84
        }
      ]
    },
    {
      "cell_type": "markdown",
      "metadata": {
        "id": "6gteIgQ8JAHa"
      },
      "source": [
        "## m"
      ]
    },
    {
      "cell_type": "code",
      "metadata": {
        "colab": {
          "base_uri": "https://localhost:8080/",
          "height": 35
        },
        "id": "1xGI5NcLI2Yv",
        "outputId": "2c587c02-6464-46d7-aac8-5858ef452485"
      },
      "source": [
        "result = ''\n",
        "for word in string_reserva:\n",
        "  if word == string_reserva[-1]:\n",
        "    result += word\n",
        "  else:\n",
        "    result += word + '/'\n",
        "\n",
        "string = result\n",
        "string"
      ],
      "execution_count": 87,
      "outputs": [
        {
          "output_type": "execute_result",
          "data": {
            "application/vnd.google.colaboratory.intrinsic+json": {
              "type": "string"
            },
            "text/plain": [
              "'instituto/de/ciêncixs/mxtemáticxs/e/de/computxção/usp/2021'"
            ]
          },
          "metadata": {},
          "execution_count": 87
        }
      ]
    }
  ]
}