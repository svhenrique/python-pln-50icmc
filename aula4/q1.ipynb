{
  "nbformat": 4,
  "nbformat_minor": 0,
  "metadata": {
    "colab": {
      "name": "Untitled5.ipynb",
      "provenance": [],
      "collapsed_sections": [],
      "authorship_tag": "ABX9TyM2IklymzznE2/uRy63GJmc",
      "include_colab_link": true
    },
    "kernelspec": {
      "name": "python3",
      "display_name": "Python 3"
    },
    "language_info": {
      "name": "python"
    }
  },
  "cells": [
    {
      "cell_type": "markdown",
      "metadata": {
        "id": "view-in-github",
        "colab_type": "text"
      },
      "source": [
        "<a href=\"https://colab.research.google.com/github/svhenrique/python-pln-50icmc/blob/main/aula4/q1.ipynb\" target=\"_parent\"><img src=\"https://colab.research.google.com/assets/colab-badge.svg\" alt=\"Open In Colab\"/></a>"
      ]
    },
    {
      "cell_type": "markdown",
      "metadata": {
        "id": "-0ek72oRECW1"
      },
      "source": [
        "Questão 1: Crie uma variável com a string “ instituto de ciências matemáticas e de \n",
        "computação” e faça: \n",
        "\n",
        "a.  Concatene (adicione) uma outra string chamada “usp” \n",
        "\n",
        "b.  Concatene (adicione) uma outra informação: 2021 \n",
        "\n",
        "c.  Verifique o tamanho da nova string (com as informações adicionadas \n",
        "das questões a e b), com referência a caracteres e espaços \n",
        "\n",
        "d.  Transforme a string inteiramente em maiúsculo \n",
        "\n",
        "e.  Transforme a string inteiramente em minúsculo \n",
        "\n",
        "f. Retire o espaço que está no início da string e imprima a string \n",
        "g.  Substitua todas as letras ‘a’ por ‘x’ \n",
        "\n",
        "h.  Separe a string em palavras únicas \n",
        "\n",
        "i. Verifique quantas palavras existem na string \n",
        "\n",
        "j. Separe a string por meio da palavra “de” \n",
        "\n",
        "k.  Verifique agora quantas palavras/frases foram formadas quando houve a separação pela palavra “de”  \n",
        "\n",
        "l. Junte as palavras que foram separadas (pode usar a separação resultante da questão h ou j) \n",
        "\n",
        "\n",
        "m. Junte as palavras que foram separadas, mas agora separadas por uma \n",
        "barra invertida,  não por  espaços  (pode  usar  a  separação  resultante  da \n",
        "questão h ou j)"
      ]
    },
    {
      "cell_type": "code",
      "metadata": {
        "id": "aYvVNIlED0k8"
      },
      "source": [
        ""
      ],
      "execution_count": null,
      "outputs": []
    }
  ]
}