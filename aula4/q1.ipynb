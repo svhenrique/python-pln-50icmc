{
  "nbformat": 4,
  "nbformat_minor": 0,
  "metadata": {
    "colab": {
      "name": "q1.ipynb",
      "provenance": [],
      "collapsed_sections": [
        "a3uWd0BIEm5s",
        "y8CHoHEfFHJ5",
        "_EBtTMeTFVyy",
        "Wqt-qbR1FqCA",
        "bGnyUpo5F3GB",
        "j-bJ8VqpGMAg",
        "nrC6V3wsGfnx"
      ],
      "authorship_tag": "ABX9TyMfzjc10f2VcD2Z1kb9FKMg",
      "include_colab_link": true
    },
    "kernelspec": {
      "name": "python3",
      "display_name": "Python 3"
    },
    "language_info": {
      "name": "python"
    }
  },
  "cells": [
    {
      "cell_type": "markdown",
      "metadata": {
        "id": "view-in-github",
        "colab_type": "text"
      },
      "source": [
        "<a href=\"https://colab.research.google.com/github/svhenrique/python-pln-50icmc/blob/main/aula4/q1.ipynb\" target=\"_parent\"><img src=\"https://colab.research.google.com/assets/colab-badge.svg\" alt=\"Open In Colab\"/></a>"
      ]
    },
    {
      "cell_type": "markdown",
      "metadata": {
        "id": "-0ek72oRECW1"
      },
      "source": [
        "Questão 1: Crie uma variável com a string “ instituto de ciências matemáticas e de \n",
        "computação” e faça: \n",
        "\n",
        "a.  Concatene (adicione) uma outra string chamada “usp” \n",
        "\n",
        "b.  Concatene (adicione) uma outra informação: 2021 \n",
        "\n",
        "c.  Verifique o tamanho da nova string (com as informações adicionadas \n",
        "das questões a e b), com referência a caracteres e espaços \n",
        "\n",
        "d.  Transforme a string inteiramente em maiúsculo \n",
        "\n",
        "e.  Transforme a string inteiramente em minúsculo \n",
        "\n",
        "f. Retire o espaço que está no início da string e imprima a string \n",
        "\n",
        "g.  Substitua todas as letras ‘a’ por ‘x’ \n",
        "\n",
        "h.  Separe a string em palavras únicas \n",
        "\n",
        "i. Verifique quantas palavras existem na string \n",
        "\n",
        "j. Separe a string por meio da palavra “de” \n",
        "\n",
        "k.  Verifique agora quantas palavras/frases foram formadas quando houve a separação pela palavra “de”  \n",
        "\n",
        "l. Junte as palavras que foram separadas (pode usar a separação resultante da questão h ou j) \n",
        "\n",
        "\n",
        "m. Junte as palavras que foram separadas, mas agora separadas por uma \n",
        "barra invertida,  não por  espaços  (pode  usar  a  separação  resultante  da \n",
        "questão h ou j)"
      ]
    },
    {
      "cell_type": "code",
      "metadata": {
        "id": "j7CzrCvHEq8H"
      },
      "source": [
        "string = ' instituto de ciências matemáticas e de computação'"
      ],
      "execution_count": 30,
      "outputs": []
    },
    {
      "cell_type": "markdown",
      "metadata": {
        "id": "a3uWd0BIEm5s"
      },
      "source": [
        "## a"
      ]
    },
    {
      "cell_type": "code",
      "metadata": {
        "colab": {
          "base_uri": "https://localhost:8080/",
          "height": 0
        },
        "id": "aYvVNIlED0k8",
        "outputId": "97ae61d6-14b0-43e8-b65d-3a1bb4e9dbd8"
      },
      "source": [
        "string += ' usp'\n",
        "string"
      ],
      "execution_count": 31,
      "outputs": [
        {
          "output_type": "execute_result",
          "data": {
            "application/vnd.google.colaboratory.intrinsic+json": {
              "type": "string"
            },
            "text/plain": [
              "' instituto de ciências matemáticas e de computação usp'"
            ]
          },
          "metadata": {},
          "execution_count": 31
        }
      ]
    },
    {
      "cell_type": "markdown",
      "metadata": {
        "id": "y8CHoHEfFHJ5"
      },
      "source": [
        "## b"
      ]
    },
    {
      "cell_type": "code",
      "metadata": {
        "colab": {
          "base_uri": "https://localhost:8080/",
          "height": 0
        },
        "id": "JM_FAIdCFIzM",
        "outputId": "71064ffe-e662-4e71-f7f4-46019f31a94a"
      },
      "source": [
        "string += ' 2021'\n",
        "string"
      ],
      "execution_count": 32,
      "outputs": [
        {
          "output_type": "execute_result",
          "data": {
            "application/vnd.google.colaboratory.intrinsic+json": {
              "type": "string"
            },
            "text/plain": [
              "' instituto de ciências matemáticas e de computação usp 2021'"
            ]
          },
          "metadata": {},
          "execution_count": 32
        }
      ]
    },
    {
      "cell_type": "markdown",
      "metadata": {
        "id": "_EBtTMeTFVyy"
      },
      "source": [
        "## c"
      ]
    },
    {
      "cell_type": "code",
      "metadata": {
        "colab": {
          "base_uri": "https://localhost:8080/"
        },
        "id": "QWJMXQLEFc4s",
        "outputId": "16963fae-19f1-4940-8075-1cf7dfabcee9"
      },
      "source": [
        "len(string)"
      ],
      "execution_count": 33,
      "outputs": [
        {
          "output_type": "execute_result",
          "data": {
            "text/plain": [
              "59"
            ]
          },
          "metadata": {},
          "execution_count": 33
        }
      ]
    },
    {
      "cell_type": "markdown",
      "metadata": {
        "id": "Wqt-qbR1FqCA"
      },
      "source": [
        "## d"
      ]
    },
    {
      "cell_type": "code",
      "metadata": {
        "colab": {
          "base_uri": "https://localhost:8080/",
          "height": 0
        },
        "id": "jTFsELccFsWj",
        "outputId": "97f6aa04-1605-42d8-d860-560494bf0482"
      },
      "source": [
        "string = string.upper()\n",
        "string"
      ],
      "execution_count": 34,
      "outputs": [
        {
          "output_type": "execute_result",
          "data": {
            "application/vnd.google.colaboratory.intrinsic+json": {
              "type": "string"
            },
            "text/plain": [
              "' INSTITUTO DE CIÊNCIAS MATEMÁTICAS E DE COMPUTAÇÃO USP 2021'"
            ]
          },
          "metadata": {},
          "execution_count": 34
        }
      ]
    },
    {
      "cell_type": "markdown",
      "metadata": {
        "id": "bGnyUpo5F3GB"
      },
      "source": [
        "## e"
      ]
    },
    {
      "cell_type": "code",
      "metadata": {
        "colab": {
          "base_uri": "https://localhost:8080/",
          "height": 0
        },
        "id": "EWOvuEntF5ea",
        "outputId": "9338c4dc-d077-42f8-cbc2-c5d7adb133fb"
      },
      "source": [
        "string = string.lower()\n",
        "string"
      ],
      "execution_count": 35,
      "outputs": [
        {
          "output_type": "execute_result",
          "data": {
            "application/vnd.google.colaboratory.intrinsic+json": {
              "type": "string"
            },
            "text/plain": [
              "' instituto de ciências matemáticas e de computação usp 2021'"
            ]
          },
          "metadata": {},
          "execution_count": 35
        }
      ]
    },
    {
      "cell_type": "markdown",
      "metadata": {
        "id": "j-bJ8VqpGMAg"
      },
      "source": [
        "## f"
      ]
    },
    {
      "cell_type": "code",
      "metadata": {
        "colab": {
          "base_uri": "https://localhost:8080/",
          "height": 0
        },
        "id": "R_Jq4DGpGY9k",
        "outputId": "b27421d0-df26-41d3-c8b2-cbe3cecb2ccb"
      },
      "source": [
        "string = string[1:]\n",
        "string"
      ],
      "execution_count": 36,
      "outputs": [
        {
          "output_type": "execute_result",
          "data": {
            "application/vnd.google.colaboratory.intrinsic+json": {
              "type": "string"
            },
            "text/plain": [
              "'instituto de ciências matemáticas e de computação usp 2021'"
            ]
          },
          "metadata": {},
          "execution_count": 36
        }
      ]
    },
    {
      "cell_type": "markdown",
      "metadata": {
        "id": "nrC6V3wsGfnx"
      },
      "source": [
        "## g"
      ]
    },
    {
      "cell_type": "code",
      "metadata": {
        "colab": {
          "base_uri": "https://localhost:8080/",
          "height": 0
        },
        "id": "0NgZnsFxGiKq",
        "outputId": "2085f718-54a8-45ea-b1b3-adf3ae8d6b6f"
      },
      "source": [
        "string = string.replace('a', 'x')\n",
        "string"
      ],
      "execution_count": 37,
      "outputs": [
        {
          "output_type": "execute_result",
          "data": {
            "application/vnd.google.colaboratory.intrinsic+json": {
              "type": "string"
            },
            "text/plain": [
              "'instituto de ciêncixs mxtemáticxs e de computxção usp 2021'"
            ]
          },
          "metadata": {},
          "execution_count": 37
        }
      ]
    },
    {
      "cell_type": "markdown",
      "metadata": {
        "id": "Jhnd3jcuGt0h"
      },
      "source": [
        "## h"
      ]
    },
    {
      "cell_type": "code",
      "metadata": {
        "colab": {
          "base_uri": "https://localhost:8080/"
        },
        "id": "e3m9BO5GGy8Q",
        "outputId": "396fa8e1-830c-4174-8644-f20b995b477b"
      },
      "source": [
        "string = string.split(' ')\n",
        "string"
      ],
      "execution_count": 38,
      "outputs": [
        {
          "output_type": "execute_result",
          "data": {
            "text/plain": [
              "['instituto',\n",
              " 'de',\n",
              " 'ciêncixs',\n",
              " 'mxtemáticxs',\n",
              " 'e',\n",
              " 'de',\n",
              " 'computxção',\n",
              " 'usp',\n",
              " '2021']"
            ]
          },
          "metadata": {},
          "execution_count": 38
        }
      ]
    },
    {
      "cell_type": "markdown",
      "metadata": {
        "id": "B2vZUFFxHGZI"
      },
      "source": [
        "## i"
      ]
    },
    {
      "cell_type": "code",
      "metadata": {
        "colab": {
          "base_uri": "https://localhost:8080/"
        },
        "id": "L21ISJgyHIjX",
        "outputId": "02edb435-c338-4f5b-ecce-7c30f76f9607"
      },
      "source": [
        "len(string)"
      ],
      "execution_count": 39,
      "outputs": [
        {
          "output_type": "execute_result",
          "data": {
            "text/plain": [
              "9"
            ]
          },
          "metadata": {},
          "execution_count": 39
        }
      ]
    },
    {
      "cell_type": "markdown",
      "metadata": {
        "id": "W7mn3vvVHRPs"
      },
      "source": [
        "## j"
      ]
    },
    {
      "cell_type": "code",
      "metadata": {
        "colab": {
          "base_uri": "https://localhost:8080/"
        },
        "id": "oo2b5pCWHVSb",
        "outputId": "290617a6-2f35-44e1-cad3-950f88a3a625"
      },
      "source": [
        "result = ''\n",
        "for word in string:\n",
        "  if word == string[-1]:\n",
        "    result += word\n",
        "  else:\n",
        "    result += word + ' '\n",
        "\n",
        "string = result.split('de')\n",
        "string"
      ],
      "execution_count": 40,
      "outputs": [
        {
          "output_type": "execute_result",
          "data": {
            "text/plain": [
              "['instituto ', ' ciêncixs mxtemáticxs e ', ' computxção usp 2021']"
            ]
          },
          "metadata": {},
          "execution_count": 40
        }
      ]
    },
    {
      "cell_type": "markdown",
      "metadata": {
        "id": "LnSMBjqEH-0E"
      },
      "source": [
        "## k"
      ]
    },
    {
      "cell_type": "code",
      "metadata": {
        "colab": {
          "base_uri": "https://localhost:8080/"
        },
        "id": "AjWnlB3rH-MC",
        "outputId": "15f410a6-6280-4b81-cfdf-76129844b031"
      },
      "source": [
        "len(string)"
      ],
      "execution_count": 41,
      "outputs": [
        {
          "output_type": "execute_result",
          "data": {
            "text/plain": [
              "3"
            ]
          },
          "metadata": {},
          "execution_count": 41
        }
      ]
    }
  ]
}