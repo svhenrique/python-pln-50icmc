{
  "nbformat": 4,
  "nbformat_minor": 0,
  "metadata": {
    "colab": {
      "name": "q2.ipynb",
      "provenance": [],
      "collapsed_sections": [],
      "authorship_tag": "ABX9TyOJ0JDlCdGC/Q4P4MgEz3Wa",
      "include_colab_link": true
    },
    "kernelspec": {
      "name": "python3",
      "display_name": "Python 3"
    },
    "language_info": {
      "name": "python"
    }
  },
  "cells": [
    {
      "cell_type": "markdown",
      "metadata": {
        "id": "view-in-github",
        "colab_type": "text"
      },
      "source": [
        "<a href=\"https://colab.research.google.com/github/svhenrique/python-pln-50icmc/blob/main/aula4/q2.ipynb\" target=\"_parent\"><img src=\"https://colab.research.google.com/assets/colab-badge.svg\" alt=\"Open In Colab\"/></a>"
      ]
    },
    {
      "cell_type": "markdown",
      "metadata": {
        "id": "1E6lzKDb7OpK"
      },
      "source": [
        "Escolha  um  corpus  qualquer  (pode  ser  o  que  foram  utilizados  na  aula)  e, \n",
        "usando as funções do NLTK, faça: \n",
        "\n",
        "a.  Tokenize o corpus inteiro (palavras, números e pontuações) \n",
        "\n",
        "b.  Verifique a quantidade de tokens do corpus \n",
        "\n",
        "c.  Tokenize o corpus apenas por suas palavras  \n",
        "\n",
        "d.  Verifique a quantidade de palavras do corpus \n",
        "\n",
        "e.  Verifique a frequência de palavras no corpus \n",
        "\n",
        "f. Verifique quais são as 5, 10 e 15 palavras mais frequentes do corpus \n",
        "\n",
        "g.  Extraia as stopwords do NLTK (não do corpus ainda) \n",
        "\n",
        "h.  Verifique a frequência dos tokens sem stopwords do corpus \n",
        "\n",
        "\n",
        "\n"
      ]
    },
    {
      "cell_type": "markdown",
      "metadata": {
        "id": "MXo6dECZ8K-e"
      },
      "source": [
        "## Preparando ambiente "
      ]
    },
    {
      "cell_type": "code",
      "metadata": {
        "colab": {
          "base_uri": "https://localhost:8080/"
        },
        "id": "rhCK3wtaApik",
        "outputId": "fbd7a200-da54-4683-fc90-4f2bb63d4707"
      },
      "source": [
        "from google.colab import drive\n",
        "\n",
        "# Accessing My Google Drive\n",
        "drive.mount('/content/drive')"
      ],
      "execution_count": 5,
      "outputs": [
        {
          "output_type": "stream",
          "name": "stdout",
          "text": [
            "Mounted at /content/drive\n"
          ]
        }
      ]
    },
    {
      "cell_type": "code",
      "metadata": {
        "id": "kaYltdEF7K0K"
      },
      "source": [
        "import nltk"
      ],
      "execution_count": 1,
      "outputs": []
    },
    {
      "cell_type": "code",
      "metadata": {
        "id": "jMC8naqT8Qi1"
      },
      "source": [
        "# baixando todos os pacotes\n",
        "nltk.download()"
      ],
      "execution_count": null,
      "outputs": []
    },
    {
      "cell_type": "code",
      "metadata": {
        "id": "9beit2_OAOYl"
      },
      "source": [
        "corpus = open('/content/drive/MyDrive/datasets/nltk/corpus_text.txt').read()"
      ],
      "execution_count": 6,
      "outputs": []
    }
  ]
}